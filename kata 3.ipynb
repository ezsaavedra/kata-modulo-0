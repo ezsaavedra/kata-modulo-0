{
 "cells": [
  {
   "cell_type": "code",
   "execution_count": 12,
   "metadata": {},
   "outputs": [
    {
     "name": "stdout",
     "output_type": "stream",
     "text": [
      "Advertencia, un asteroide se aproxima!!!\n"
     ]
    }
   ],
   "source": [
    "velocidad = input()   \n",
    "if int (velocidad) >= 25:\n",
    "    print(\"Advertencia, un asteroide se aproxima!!!\")\n",
    "else:\n",
    "    print(\"todo ok, continua\") "
   ]
  },
  {
   "cell_type": "code",
   "execution_count": 13,
   "metadata": {},
   "outputs": [
    {
     "name": "stdout",
     "output_type": "stream",
     "text": [
      "el asteroide es visible desde la tierra\n"
     ]
    }
   ],
   "source": [
    "velocidad = 19\n",
    "if velocidad >= 19:\n",
    "    print(\"el asteroide es visible desde la tierra\")\n",
    "elif velocidad <19:\n",
    "    print(\"el asteroide no se puede ver aun\")\n",
    "else:\n",
    "    print(\"no hay asteroide jaja\")"
   ]
  },
  {
   "cell_type": "code",
   "execution_count": 22,
   "metadata": {},
   "outputs": [
    {
     "name": "stdout",
     "output_type": "stream",
     "text": [
      "un asteroide se aproxima a la tierra, el daño del impacto es inminente\n"
     ]
    }
   ],
   "source": [
    "dimension = input(\"cual es la dimension del asteroide?\")\n",
    "velocidad = input(\"cual es la velocidad del asteroide?\")\n",
    "if int(dimension) <= 25 and int(velocidad) <= 24:\n",
    "    print(\"sin noticias relevantes\")\n",
    "elif int(velocidad) > 24 and int(dimension) < 25: \n",
    "    print(\"un asteroide se aproxima, sera visible desde la tierra\")\n",
    "elif int(dimension) > 25:\n",
    "    print(\"un asteroide se aproxima a la tierra, el daño del impacto es inminente\")\n",
    "else:\n",
    "    print(\"no deberias ver esto\")"
   ]
  }
 ],
 "metadata": {
  "interpreter": {
   "hash": "5c75ef82058534ccfd704534f2a4b254dae44df62b5c8d2c78c5b48e5d657190"
  },
  "kernelspec": {
   "display_name": "Python 3.10.2 64-bit (windows store)",
   "language": "python",
   "name": "python3"
  },
  "language_info": {
   "codemirror_mode": {
    "name": "ipython",
    "version": 3
   },
   "file_extension": ".py",
   "mimetype": "text/x-python",
   "name": "python",
   "nbconvert_exporter": "python",
   "pygments_lexer": "ipython3",
   "version": "3.10.2"
  },
  "orig_nbformat": 4
 },
 "nbformat": 4,
 "nbformat_minor": 2
}
