{
 "cells": [
  {
   "cell_type": "code",
   "execution_count": 2,
   "metadata": {},
   "outputs": [
    {
     "name": "stdout",
     "output_type": "stream",
     "text": [
      "6\n"
     ]
    }
   ],
   "source": [
    "    sum = 1 + 2 #resultado = 3\n",
    "    product = sum * 2\n",
    "    print(product)"
   ]
  },
  {
   "cell_type": "code",
   "execution_count": 2,
   "metadata": {},
   "outputs": [
    {
     "name": "stdout",
     "output_type": "stream",
     "text": [
      "2022-02-16\n",
      "hoy es: 2022-02-16\n"
     ]
    }
   ],
   "source": [
    "from datetime import date      #importacion del modulo para usar fechas\n",
    "date.today()                   #funcion para usar la fecha de hoy\n",
    "print(date.today())\n",
    "\n",
    "#para concatenar funciones como esta con texto, es necesario convertirla a string con \"str()\"\n",
    "print(\"hoy es: \" + str(date.today()))"
   ]
  },
  {
   "cell_type": "code",
   "execution_count": 14,
   "metadata": {},
   "outputs": [
    {
     "name": "stdout",
     "output_type": "stream",
     "text": [
      "hola eze se bienvenido a calculadora\n",
      "el resultado de la suma es:  7\n"
     ]
    }
   ],
   "source": [
    "#entrada del usuario input()\n",
    "name = input(\"cual es tu nombre?\")\n",
    "print(\"hola \" + name + \" se bienvenido a calculadora\")\n",
    "numero1 = input(\"primer numero de la suma\")\n",
    "numero2 = input(\"segundo numero de la suma\")\n",
    "resultado = int (numero1) + int (numero2) #se indica que los datos utilizados son int\n",
    "\n",
    "print(\"el resultado de la suma es: \" ,resultado) #concatenar int y str se hace con \",\"\n"
   ]
  }
 ],
 "metadata": {
  "interpreter": {
   "hash": "b481920230a9b55ae1312314e462b6e4ea5774d6c59d2492b97a94cacaff18a6"
  },
  "kernelspec": {
   "display_name": "Python 3.10.2 64-bit",
   "language": "python",
   "name": "python3"
  },
  "language_info": {
   "codemirror_mode": {
    "name": "ipython",
    "version": 3
   },
   "file_extension": ".py",
   "mimetype": "text/x-python",
   "name": "python",
   "nbconvert_exporter": "python",
   "pygments_lexer": "ipython3",
   "version": "3.10.2"
  },
  "orig_nbformat": 4
 },
 "nbformat": 4,
 "nbformat_minor": 2
}
